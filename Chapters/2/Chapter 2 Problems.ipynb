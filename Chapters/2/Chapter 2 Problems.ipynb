{
 "cells": [
  {
   "cell_type": "markdown",
   "metadata": {},
   "source": [
    "# Chapter 3 Problems"
   ]
  },
  {
   "cell_type": "code",
   "execution_count": 269,
   "metadata": {},
   "outputs": [],
   "source": [
    "import math\n",
    "import decimal"
   ]
  },
  {
   "cell_type": "markdown",
   "metadata": {},
   "source": [
    "http://www.inference.org.uk/itprnn/book.pdf"
   ]
  },
  {
   "cell_type": "markdown",
   "metadata": {},
   "source": [
    "# 2.4"
   ]
  },
  {
   "cell_type": "code",
   "execution_count": 394,
   "metadata": {},
   "outputs": [],
   "source": [
    "def pprint(val):\n",
    "    print(round(decimal.Decimal(val),2))\n",
    "    \n",
    "class BinomialRandom:\n",
    "    \"\"\"A random variable with a binomial distribution.\"\"\"\n",
    "    \n",
    "    def __init__(self, f, N):\n",
    "        self.f = f\n",
    "        self.N = N\n",
    "        \n",
    "    def comb(self,N,r):\n",
    "        return math.factorial(N)/(math.factorial(N-r)*math.factorial(r))\n",
    "    \n",
    "    def P(self,r):\n",
    "        return comb(self.N,r)*(self.f**r)*(1-self.f)**(self.N-r)\n",
    "    \n",
    "    def E(self, Fx=lambda x:x):\n",
    "        accSum = 0\n",
    "        \n",
    "        for i in range(self.N+1):\n",
    "            accSum += self.P(i)*Fx(i)\n",
    "    \n",
    "        return accSum\n",
    "        \n",
    "    def VAR(self,Fx=lambda x:x): \n",
    "        accSum = 0\n",
    "        \n",
    "        for i in range(self.N+1):\n",
    "            accSum += self.P(i)*(i**2)\n",
    "        \n",
    "        return accSum - (self.E(Fx)**2)\n",
    "        "
   ]
  },
  {
   "cell_type": "code",
   "execution_count": 395,
   "metadata": {},
   "outputs": [
    {
     "name": "stdout",
     "output_type": "stream",
     "text": [
      "N=5,B=2,K=10\n",
      "1.00\n",
      "0.80\n",
      "\n",
      "N=400,B=2,K=10\n",
      "80.00\n",
      "64.00\n"
     ]
    }
   ],
   "source": [
    "res = BinomialRandom(1/5,5)\n",
    "\n",
    "print(\"N=5,B=2,K=10\")\n",
    "pprint(res.E())\n",
    "pprint(res.VAR())\n",
    "\n",
    "print(\"\\nN=400,B=2,K=10\")\n",
    "res = BinomialRandom(1/5,400)\n",
    "pprint(res.E())\n",
    "pprint(res.VAR())"
   ]
  },
  {
   "cell_type": "markdown",
   "metadata": {},
   "source": [
    "# 2.5"
   ]
  },
  {
   "cell_type": "code",
   "execution_count": 405,
   "metadata": {},
   "outputs": [
    {
     "name": "stdout",
     "output_type": "stream",
     "text": [
      "N=5,Fb=1/5\n",
      "1.00\n",
      "0.80\n",
      "0.4096000000000001\n"
     ]
    }
   ],
   "source": [
    "res = BinomialRandom(1/5,5)\n",
    "N = 5\n",
    "Fb = 1/5\n",
    "Fx = lambda x: (x-Fb*N)**2/(N*Fb*(1-Fb))\n",
    "\n",
    "print(\"N=5,Fb=1/5\")\n",
    "pprint(res.E(Fx))\n",
    "pprint(res.VAR(Fx))\n",
    "print(res.P(1))"
   ]
  },
  {
   "cell_type": "code",
   "execution_count": null,
   "metadata": {},
   "outputs": [],
   "source": []
  }
 ],
 "metadata": {
  "kernelspec": {
   "display_name": "Python 3",
   "language": "python",
   "name": "python3"
  },
  "language_info": {
   "codemirror_mode": {
    "name": "ipython",
    "version": 3
   },
   "file_extension": ".py",
   "mimetype": "text/x-python",
   "name": "python",
   "nbconvert_exporter": "python",
   "pygments_lexer": "ipython3",
   "version": "3.6.2"
  }
 },
 "nbformat": 4,
 "nbformat_minor": 2
}
